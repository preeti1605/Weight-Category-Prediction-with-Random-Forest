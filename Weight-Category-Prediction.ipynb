{
 "cells": [
  {
   "cell_type": "markdown",
   "id": "a6833968",
   "metadata": {},
   "source": [
    "# Weight Prediction Using Random Forest Algorithm"
   ]
  },
  {
   "cell_type": "code",
   "execution_count": 1,
   "id": "ffb8988d",
   "metadata": {},
   "outputs": [],
   "source": [
    "#importing important libraries\n",
    "import numpy as np\n",
    "import pandas as pd\n",
    "import matplotlib.pyplot as plt\n",
    "import seaborn as sns\n",
    "from sklearn.preprocessing import StandardScaler\n",
    "from sklearn.ensemble import RandomForestClassifier\n",
    "from sklearn.model_selection import GridSearchCV, train_test_split\n",
    "from sklearn.metrics import classification_report, confusion_matrix, accuracy_score"
   ]
  },
  {
   "cell_type": "code",
   "execution_count": 2,
   "id": "c81cf6b9",
   "metadata": {},
   "outputs": [],
   "source": [
    "import warnings\n",
    "warnings.filterwarnings('ignore')"
   ]
  },
  {
   "cell_type": "code",
   "execution_count": 3,
   "id": "93ba8853",
   "metadata": {},
   "outputs": [
    {
     "data": {
      "text/html": [
       "<div>\n",
       "<style scoped>\n",
       "    .dataframe tbody tr th:only-of-type {\n",
       "        vertical-align: middle;\n",
       "    }\n",
       "\n",
       "    .dataframe tbody tr th {\n",
       "        vertical-align: top;\n",
       "    }\n",
       "\n",
       "    .dataframe thead th {\n",
       "        text-align: right;\n",
       "    }\n",
       "</style>\n",
       "<table border=\"1\" class=\"dataframe\">\n",
       "  <thead>\n",
       "    <tr style=\"text-align: right;\">\n",
       "      <th></th>\n",
       "      <th>Gender</th>\n",
       "      <th>Height</th>\n",
       "      <th>Weight</th>\n",
       "      <th>Index</th>\n",
       "    </tr>\n",
       "  </thead>\n",
       "  <tbody>\n",
       "    <tr>\n",
       "      <th>0</th>\n",
       "      <td>Male</td>\n",
       "      <td>174</td>\n",
       "      <td>96</td>\n",
       "      <td>4</td>\n",
       "    </tr>\n",
       "    <tr>\n",
       "      <th>1</th>\n",
       "      <td>Male</td>\n",
       "      <td>189</td>\n",
       "      <td>87</td>\n",
       "      <td>2</td>\n",
       "    </tr>\n",
       "    <tr>\n",
       "      <th>2</th>\n",
       "      <td>Female</td>\n",
       "      <td>185</td>\n",
       "      <td>110</td>\n",
       "      <td>4</td>\n",
       "    </tr>\n",
       "    <tr>\n",
       "      <th>3</th>\n",
       "      <td>Female</td>\n",
       "      <td>195</td>\n",
       "      <td>104</td>\n",
       "      <td>3</td>\n",
       "    </tr>\n",
       "    <tr>\n",
       "      <th>4</th>\n",
       "      <td>Male</td>\n",
       "      <td>149</td>\n",
       "      <td>61</td>\n",
       "      <td>3</td>\n",
       "    </tr>\n",
       "  </tbody>\n",
       "</table>\n",
       "</div>"
      ],
      "text/plain": [
       "   Gender  Height  Weight  Index\n",
       "0    Male     174      96      4\n",
       "1    Male     189      87      2\n",
       "2  Female     185     110      4\n",
       "3  Female     195     104      3\n",
       "4    Male     149      61      3"
      ]
     },
     "execution_count": 3,
     "metadata": {},
     "output_type": "execute_result"
    }
   ],
   "source": [
    "#reading the data\n",
    "df = pd.read_csv(\"500_Person_Gender_Height_Weight_Index.csv\")\n",
    "df.head()"
   ]
  },
  {
   "cell_type": "code",
   "execution_count": 4,
   "id": "3362a9d4",
   "metadata": {},
   "outputs": [
    {
     "name": "stdout",
     "output_type": "stream",
     "text": [
      "<class 'pandas.core.frame.DataFrame'>\n",
      "RangeIndex: 500 entries, 0 to 499\n",
      "Data columns (total 4 columns):\n",
      " #   Column  Non-Null Count  Dtype \n",
      "---  ------  --------------  ----- \n",
      " 0   Gender  500 non-null    object\n",
      " 1   Height  500 non-null    int64 \n",
      " 2   Weight  500 non-null    int64 \n",
      " 3   Index   500 non-null    int64 \n",
      "dtypes: int64(3), object(1)\n",
      "memory usage: 15.8+ KB\n"
     ]
    }
   ],
   "source": [
    "#information about the data likenull values, column names and data type\n",
    "df.info()"
   ]
  },
  {
   "cell_type": "code",
   "execution_count": 5,
   "id": "d97e7de9",
   "metadata": {},
   "outputs": [
    {
     "data": {
      "text/plain": [
       "(500, 4)"
      ]
     },
     "execution_count": 5,
     "metadata": {},
     "output_type": "execute_result"
    }
   ],
   "source": [
    "#shape of the data\n",
    "df.shape"
   ]
  },
  {
   "cell_type": "code",
   "execution_count": 6,
   "id": "6f934c8d",
   "metadata": {},
   "outputs": [
    {
     "data": {
      "text/html": [
       "<div>\n",
       "<style scoped>\n",
       "    .dataframe tbody tr th:only-of-type {\n",
       "        vertical-align: middle;\n",
       "    }\n",
       "\n",
       "    .dataframe tbody tr th {\n",
       "        vertical-align: top;\n",
       "    }\n",
       "\n",
       "    .dataframe thead th {\n",
       "        text-align: right;\n",
       "    }\n",
       "</style>\n",
       "<table border=\"1\" class=\"dataframe\">\n",
       "  <thead>\n",
       "    <tr style=\"text-align: right;\">\n",
       "      <th></th>\n",
       "      <th>Height</th>\n",
       "      <th>Weight</th>\n",
       "      <th>Index</th>\n",
       "    </tr>\n",
       "  </thead>\n",
       "  <tbody>\n",
       "    <tr>\n",
       "      <th>count</th>\n",
       "      <td>500.000000</td>\n",
       "      <td>500.000000</td>\n",
       "      <td>500.000000</td>\n",
       "    </tr>\n",
       "    <tr>\n",
       "      <th>mean</th>\n",
       "      <td>169.944000</td>\n",
       "      <td>106.000000</td>\n",
       "      <td>3.748000</td>\n",
       "    </tr>\n",
       "    <tr>\n",
       "      <th>std</th>\n",
       "      <td>16.375261</td>\n",
       "      <td>32.382607</td>\n",
       "      <td>1.355053</td>\n",
       "    </tr>\n",
       "    <tr>\n",
       "      <th>min</th>\n",
       "      <td>140.000000</td>\n",
       "      <td>50.000000</td>\n",
       "      <td>0.000000</td>\n",
       "    </tr>\n",
       "    <tr>\n",
       "      <th>25%</th>\n",
       "      <td>156.000000</td>\n",
       "      <td>80.000000</td>\n",
       "      <td>3.000000</td>\n",
       "    </tr>\n",
       "    <tr>\n",
       "      <th>50%</th>\n",
       "      <td>170.500000</td>\n",
       "      <td>106.000000</td>\n",
       "      <td>4.000000</td>\n",
       "    </tr>\n",
       "    <tr>\n",
       "      <th>75%</th>\n",
       "      <td>184.000000</td>\n",
       "      <td>136.000000</td>\n",
       "      <td>5.000000</td>\n",
       "    </tr>\n",
       "    <tr>\n",
       "      <th>max</th>\n",
       "      <td>199.000000</td>\n",
       "      <td>160.000000</td>\n",
       "      <td>5.000000</td>\n",
       "    </tr>\n",
       "  </tbody>\n",
       "</table>\n",
       "</div>"
      ],
      "text/plain": [
       "           Height      Weight       Index\n",
       "count  500.000000  500.000000  500.000000\n",
       "mean   169.944000  106.000000    3.748000\n",
       "std     16.375261   32.382607    1.355053\n",
       "min    140.000000   50.000000    0.000000\n",
       "25%    156.000000   80.000000    3.000000\n",
       "50%    170.500000  106.000000    4.000000\n",
       "75%    184.000000  136.000000    5.000000\n",
       "max    199.000000  160.000000    5.000000"
      ]
     },
     "execution_count": 6,
     "metadata": {},
     "output_type": "execute_result"
    }
   ],
   "source": [
    "#description of the data\n",
    "df.describe()"
   ]
  },
  {
   "cell_type": "code",
   "execution_count": 7,
   "id": "c2d01d7b",
   "metadata": {},
   "outputs": [],
   "source": [
    "#create a function to convert numerical values of the 'index' column to categorical values\n",
    "def num_to_cat(ind):\n",
    "    if(ind==0):\n",
    "        return \"Extremely week\"\n",
    "    if(ind==1):\n",
    "        return \"Weak\"\n",
    "    if(ind==2):\n",
    "        return \"Normal\"\n",
    "    if(ind==3):\n",
    "        return \"Overweight\"\n",
    "    if(ind==4):\n",
    "        return \"Obesity\"\n",
    "    if(ind==5):\n",
    "        return \"Extremely Obese\""
   ]
  },
  {
   "cell_type": "code",
   "execution_count": 8,
   "id": "d4807a55",
   "metadata": {},
   "outputs": [],
   "source": [
    "df['Index'] = df['Index'].apply(num_to_cat)"
   ]
  },
  {
   "cell_type": "code",
   "execution_count": 9,
   "id": "f64f2ee9",
   "metadata": {},
   "outputs": [
    {
     "data": {
      "text/html": [
       "<div>\n",
       "<style scoped>\n",
       "    .dataframe tbody tr th:only-of-type {\n",
       "        vertical-align: middle;\n",
       "    }\n",
       "\n",
       "    .dataframe tbody tr th {\n",
       "        vertical-align: top;\n",
       "    }\n",
       "\n",
       "    .dataframe thead th {\n",
       "        text-align: right;\n",
       "    }\n",
       "</style>\n",
       "<table border=\"1\" class=\"dataframe\">\n",
       "  <thead>\n",
       "    <tr style=\"text-align: right;\">\n",
       "      <th></th>\n",
       "      <th>Gender</th>\n",
       "      <th>Height</th>\n",
       "      <th>Weight</th>\n",
       "      <th>Index</th>\n",
       "    </tr>\n",
       "  </thead>\n",
       "  <tbody>\n",
       "    <tr>\n",
       "      <th>0</th>\n",
       "      <td>Male</td>\n",
       "      <td>174</td>\n",
       "      <td>96</td>\n",
       "      <td>Obesity</td>\n",
       "    </tr>\n",
       "    <tr>\n",
       "      <th>1</th>\n",
       "      <td>Male</td>\n",
       "      <td>189</td>\n",
       "      <td>87</td>\n",
       "      <td>Normal</td>\n",
       "    </tr>\n",
       "    <tr>\n",
       "      <th>2</th>\n",
       "      <td>Female</td>\n",
       "      <td>185</td>\n",
       "      <td>110</td>\n",
       "      <td>Obesity</td>\n",
       "    </tr>\n",
       "    <tr>\n",
       "      <th>3</th>\n",
       "      <td>Female</td>\n",
       "      <td>195</td>\n",
       "      <td>104</td>\n",
       "      <td>Overweight</td>\n",
       "    </tr>\n",
       "    <tr>\n",
       "      <th>4</th>\n",
       "      <td>Male</td>\n",
       "      <td>149</td>\n",
       "      <td>61</td>\n",
       "      <td>Overweight</td>\n",
       "    </tr>\n",
       "  </tbody>\n",
       "</table>\n",
       "</div>"
      ],
      "text/plain": [
       "   Gender  Height  Weight       Index\n",
       "0    Male     174      96     Obesity\n",
       "1    Male     189      87      Normal\n",
       "2  Female     185     110     Obesity\n",
       "3  Female     195     104  Overweight\n",
       "4    Male     149      61  Overweight"
      ]
     },
     "execution_count": 9,
     "metadata": {},
     "output_type": "execute_result"
    }
   ],
   "source": [
    "df.head()"
   ]
  },
  {
   "cell_type": "code",
   "execution_count": 10,
   "id": "8cc38d67",
   "metadata": {},
   "outputs": [
    {
     "data": {
      "text/plain": [
       "<seaborn.axisgrid.FacetGrid at 0x1a4c3c73070>"
      ]
     },
     "execution_count": 10,
     "metadata": {},
     "output_type": "execute_result"
    },
    {
     "data": {
      "image/png": "[encoded data removed]",
      "text/plain": [
       "<Figure size 625.125x504 with 1 Axes>"
      ]
     },
     "metadata": {
      "needs_background": "light"
     },
     "output_type": "display_data"
    }
   ],
   "source": [
    "#let us plot height and weight and colour them accordingly to their weight.\n",
    "# We are using sns.lmplot, which is just a scaler plot or we can spy a regression plot\n",
    "\n",
    "sns.lmplot(\"Height\", \"Weight\", df, hue=\"Index\", size=7, aspect=1, fit_reg=False)"
   ]
  },
  {
   "cell_type": "code",
   "execution_count": 11,
   "id": "074929a1",
   "metadata": {},
   "outputs": [
    {
     "data": {
      "text/plain": [
       "Female    255\n",
       "Male      245\n",
       "Name: Gender, dtype: int64"
      ]
     },
     "execution_count": 11,
     "metadata": {},
     "output_type": "execute_result"
    }
   ],
   "source": [
    "#let us analyse the value counts of the gender column\n",
    "people = df['Gender'].value_counts()\n",
    "people"
   ]
  },
  {
   "cell_type": "code",
   "execution_count": 12,
   "id": "303a3569",
   "metadata": {},
   "outputs": [
    {
     "data": {
      "text/plain": [
       "Extremely Obese    198\n",
       "Obesity            130\n",
       "Normal              69\n",
       "Overweight          68\n",
       "Weak                22\n",
       "Extremely week      13\n",
       "Name: Index, dtype: int64"
      ]
     },
     "execution_count": 12,
     "metadata": {},
     "output_type": "execute_result"
    }
   ],
   "source": [
    "#let us analyse the value counts of the index column\n",
    "categories = df['Index'].value_counts()\n",
    "categories"
   ]
  },
  {
   "cell_type": "code",
   "execution_count": 13,
   "id": "5f917019",
   "metadata": {},
   "outputs": [
    {
     "data": {
      "text/plain": [
       "Extremely Obese    105\n",
       "Obesity             59\n",
       "Overweight          32\n",
       "Normal              28\n",
       "Weak                15\n",
       "Extremely week       6\n",
       "Name: Index, dtype: int64"
      ]
     },
     "execution_count": 13,
     "metadata": {},
     "output_type": "execute_result"
    }
   ],
   "source": [
    "#let us analyse the weight category distribution accordingly to gender \n",
    "#stats for men\n",
    "df[df['Gender']=='Male']['Index'].value_counts()"
   ]
  },
  {
   "cell_type": "code",
   "execution_count": 14,
   "id": "3d35cffc",
   "metadata": {},
   "outputs": [
    {
     "data": {
      "text/plain": [
       "Extremely Obese    93\n",
       "Obesity            71\n",
       "Normal             41\n",
       "Overweight         36\n",
       "Weak                7\n",
       "Extremely week      7\n",
       "Name: Index, dtype: int64"
      ]
     },
     "execution_count": 14,
     "metadata": {},
     "output_type": "execute_result"
    }
   ],
   "source": [
    "#stats for women\n",
    "df[df['Gender']=='Female']['Index'].value_counts()"
   ]
  },
  {
   "cell_type": "code",
   "execution_count": 15,
   "id": "893f7a97",
   "metadata": {},
   "outputs": [],
   "source": [
    "#creating dummy variables out of the gender column\n",
    "df2 = pd.get_dummies(df['Gender'])\n",
    "df.drop('Gender', axis=1, inplace=True)\n",
    "df=pd.concat([df,df2], axis=1)"
   ]
  },
  {
   "cell_type": "code",
   "execution_count": 16,
   "id": "ecaaa716",
   "metadata": {},
   "outputs": [
    {
     "data": {
      "text/html": [
       "<div>\n",
       "<style scoped>\n",
       "    .dataframe tbody tr th:only-of-type {\n",
       "        vertical-align: middle;\n",
       "    }\n",
       "\n",
       "    .dataframe tbody tr th {\n",
       "        vertical-align: top;\n",
       "    }\n",
       "\n",
       "    .dataframe thead th {\n",
       "        text-align: right;\n",
       "    }\n",
       "</style>\n",
       "<table border=\"1\" class=\"dataframe\">\n",
       "  <thead>\n",
       "    <tr style=\"text-align: right;\">\n",
       "      <th></th>\n",
       "      <th>Female</th>\n",
       "      <th>Male</th>\n",
       "    </tr>\n",
       "  </thead>\n",
       "  <tbody>\n",
       "    <tr>\n",
       "      <th>0</th>\n",
       "      <td>0</td>\n",
       "      <td>1</td>\n",
       "    </tr>\n",
       "    <tr>\n",
       "      <th>1</th>\n",
       "      <td>0</td>\n",
       "      <td>1</td>\n",
       "    </tr>\n",
       "    <tr>\n",
       "      <th>2</th>\n",
       "      <td>1</td>\n",
       "      <td>0</td>\n",
       "    </tr>\n",
       "    <tr>\n",
       "      <th>3</th>\n",
       "      <td>1</td>\n",
       "      <td>0</td>\n",
       "    </tr>\n",
       "    <tr>\n",
       "      <th>4</th>\n",
       "      <td>0</td>\n",
       "      <td>1</td>\n",
       "    </tr>\n",
       "  </tbody>\n",
       "</table>\n",
       "</div>"
      ],
      "text/plain": [
       "   Female  Male\n",
       "0       0     1\n",
       "1       0     1\n",
       "2       1     0\n",
       "3       1     0\n",
       "4       0     1"
      ]
     },
     "execution_count": 16,
     "metadata": {},
     "output_type": "execute_result"
    }
   ],
   "source": [
    "df2.head()"
   ]
  },
  {
   "cell_type": "code",
   "execution_count": 17,
   "id": "c09dfc7c",
   "metadata": {},
   "outputs": [],
   "source": [
    "y = df['Index']\n",
    "df = df.drop(['Index'], axis=1)"
   ]
  },
  {
   "cell_type": "code",
   "execution_count": 18,
   "id": "df260d75",
   "metadata": {},
   "outputs": [
    {
     "data": {
      "text/plain": [
       "0       Obesity\n",
       "1        Normal\n",
       "2       Obesity\n",
       "3    Overweight\n",
       "4    Overweight\n",
       "Name: Index, dtype: object"
      ]
     },
     "execution_count": 18,
     "metadata": {},
     "output_type": "execute_result"
    }
   ],
   "source": [
    "y.head()"
   ]
  },
  {
   "cell_type": "code",
   "execution_count": 19,
   "id": "e012b4e5",
   "metadata": {},
   "outputs": [],
   "source": [
    "# we are declaring a StandardScaler and scaling our data to bring everything on the same scale/range.\n",
    "#this will help increase our model's accuracy and will also help in faster training.\n",
    "s = StandardScaler()\n",
    "df = s.fit_transform(df)\n",
    "df = pd.DataFrame(df)"
   ]
  },
  {
   "cell_type": "code",
   "execution_count": 20,
   "id": "1a547668",
   "metadata": {},
   "outputs": [
    {
     "data": {
      "text/html": [
       "<div>\n",
       "<style scoped>\n",
       "    .dataframe tbody tr th:only-of-type {\n",
       "        vertical-align: middle;\n",
       "    }\n",
       "\n",
       "    .dataframe tbody tr th {\n",
       "        vertical-align: top;\n",
       "    }\n",
       "\n",
       "    .dataframe thead th {\n",
       "        text-align: right;\n",
       "    }\n",
       "</style>\n",
       "<table border=\"1\" class=\"dataframe\">\n",
       "  <thead>\n",
       "    <tr style=\"text-align: right;\">\n",
       "      <th></th>\n",
       "      <th>0</th>\n",
       "      <th>1</th>\n",
       "      <th>2</th>\n",
       "      <th>3</th>\n",
       "    </tr>\n",
       "  </thead>\n",
       "  <tbody>\n",
       "    <tr>\n",
       "      <th>0</th>\n",
       "      <td>0.247939</td>\n",
       "      <td>-0.309117</td>\n",
       "      <td>-1.020204</td>\n",
       "      <td>1.020204</td>\n",
       "    </tr>\n",
       "    <tr>\n",
       "      <th>1</th>\n",
       "      <td>1.164872</td>\n",
       "      <td>-0.587322</td>\n",
       "      <td>-1.020204</td>\n",
       "      <td>1.020204</td>\n",
       "    </tr>\n",
       "    <tr>\n",
       "      <th>2</th>\n",
       "      <td>0.920357</td>\n",
       "      <td>0.123647</td>\n",
       "      <td>0.980196</td>\n",
       "      <td>-0.980196</td>\n",
       "    </tr>\n",
       "    <tr>\n",
       "      <th>3</th>\n",
       "      <td>1.531645</td>\n",
       "      <td>-0.061823</td>\n",
       "      <td>0.980196</td>\n",
       "      <td>-0.980196</td>\n",
       "    </tr>\n",
       "    <tr>\n",
       "      <th>4</th>\n",
       "      <td>-1.280283</td>\n",
       "      <td>-1.391027</td>\n",
       "      <td>-1.020204</td>\n",
       "      <td>1.020204</td>\n",
       "    </tr>\n",
       "  </tbody>\n",
       "</table>\n",
       "</div>"
      ],
      "text/plain": [
       "          0         1         2         3\n",
       "0  0.247939 -0.309117 -1.020204  1.020204\n",
       "1  1.164872 -0.587322 -1.020204  1.020204\n",
       "2  0.920357  0.123647  0.980196 -0.980196\n",
       "3  1.531645 -0.061823  0.980196 -0.980196\n",
       "4 -1.280283 -1.391027 -1.020204  1.020204"
      ]
     },
     "execution_count": 20,
     "metadata": {},
     "output_type": "execute_result"
    }
   ],
   "source": [
    "df.head()"
   ]
  },
  {
   "cell_type": "code",
   "execution_count": 21,
   "id": "1eca8c87",
   "metadata": {},
   "outputs": [],
   "source": [
    "#let us split our data for training and testing purpose in 70% and 30% proportions respectively\n",
    "X_train, X_test, y_train, y_test = train_test_split(df, y, test_size=0.3, random_state=101)"
   ]
  },
  {
   "cell_type": "code",
   "execution_count": 22,
   "id": "38c57976",
   "metadata": {},
   "outputs": [],
   "source": [
    "#by using GridSearchCV we can train our random forest model on multiple n_estimators\n",
    "param_grid = {'n_estimators' : [100,200,300,400,500,600,700,800,1000]}\n",
    "grid_cv = GridSearchCV(RandomForestClassifier(random_state=101), param_grid, verbose=3)"
   ]
  },
  {
   "cell_type": "code",
   "execution_count": 23,
   "id": "14d459ad",
   "metadata": {},
   "outputs": [
    {
     "name": "stdout",
     "output_type": "stream",
     "text": [
      "Fitting 5 folds for each of 9 candidates, totalling 45 fits\n",
      "[CV 1/5] END ..................n_estimators=100;, score=0.857 total time=   0.3s\n",
      "[CV 2/5] END ..................n_estimators=100;, score=0.886 total time=   0.4s\n",
      "[CV 3/5] END ..................n_estimators=100;, score=0.829 total time=   0.4s\n",
      "[CV 4/5] END ..................n_estimators=100;, score=0.786 total time=   0.2s\n",
      "[CV 5/5] END ..................n_estimators=100;, score=0.900 total time=   0.2s\n",
      "[CV 1/5] END ..................n_estimators=200;, score=0.843 total time=   0.4s\n",
      "[CV 2/5] END ..................n_estimators=200;, score=0.900 total time=   0.4s\n",
      "[CV 3/5] END ..................n_estimators=200;, score=0.843 total time=   0.3s\n",
      "[CV 4/5] END ..................n_estimators=200;, score=0.829 total time=   0.3s\n",
      "[CV 5/5] END ..................n_estimators=200;, score=0.886 total time=   0.3s\n",
      "[CV 1/5] END ..................n_estimators=300;, score=0.843 total time=   0.6s\n",
      "[CV 2/5] END ..................n_estimators=300;, score=0.900 total time=   0.5s\n",
      "[CV 3/5] END ..................n_estimators=300;, score=0.843 total time=   0.6s\n",
      "[CV 4/5] END ..................n_estimators=300;, score=0.814 total time=   0.7s\n",
      "[CV 5/5] END ..................n_estimators=300;, score=0.900 total time=   1.0s\n",
      "[CV 1/5] END ..................n_estimators=400;, score=0.843 total time=   1.2s\n",
      "[CV 2/5] END ..................n_estimators=400;, score=0.900 total time=   1.3s\n",
      "[CV 3/5] END ..................n_estimators=400;, score=0.843 total time=   1.2s\n",
      "[CV 4/5] END ..................n_estimators=400;, score=0.800 total time=   1.1s\n",
      "[CV 5/5] END ..................n_estimators=400;, score=0.886 total time=   0.9s\n",
      "[CV 1/5] END ..................n_estimators=500;, score=0.857 total time=   1.4s\n",
      "[CV 2/5] END ..................n_estimators=500;, score=0.900 total time=   1.5s\n",
      "[CV 3/5] END ..................n_estimators=500;, score=0.843 total time=   1.5s\n",
      "[CV 4/5] END ..................n_estimators=500;, score=0.786 total time=   1.5s\n",
      "[CV 5/5] END ..................n_estimators=500;, score=0.886 total time=   1.5s\n",
      "[CV 1/5] END ..................n_estimators=600;, score=0.843 total time=   1.5s\n",
      "[CV 2/5] END ..................n_estimators=600;, score=0.900 total time=   1.5s\n",
      "[CV 3/5] END ..................n_estimators=600;, score=0.843 total time=   1.5s\n",
      "[CV 4/5] END ..................n_estimators=600;, score=0.786 total time=   1.7s\n",
      "[CV 5/5] END ..................n_estimators=600;, score=0.886 total time=   1.9s\n",
      "[CV 1/5] END ..................n_estimators=700;, score=0.857 total time=   3.1s\n",
      "[CV 2/5] END ..................n_estimators=700;, score=0.900 total time=   1.9s\n",
      "[CV 3/5] END ..................n_estimators=700;, score=0.843 total time=   1.8s\n",
      "[CV 4/5] END ..................n_estimators=700;, score=0.786 total time=   2.1s\n",
      "[CV 5/5] END ..................n_estimators=700;, score=0.886 total time=   1.7s\n",
      "[CV 1/5] END ..................n_estimators=800;, score=0.857 total time=   2.1s\n",
      "[CV 2/5] END ..................n_estimators=800;, score=0.900 total time=   1.5s\n",
      "[CV 3/5] END ..................n_estimators=800;, score=0.843 total time=   1.5s\n",
      "[CV 4/5] END ..................n_estimators=800;, score=0.786 total time=   1.8s\n",
      "[CV 5/5] END ..................n_estimators=800;, score=0.886 total time=   1.6s\n",
      "[CV 1/5] END .................n_estimators=1000;, score=0.857 total time=   1.9s\n",
      "[CV 2/5] END .................n_estimators=1000;, score=0.900 total time=   2.0s\n",
      "[CV 3/5] END .................n_estimators=1000;, score=0.829 total time=   3.1s\n",
      "[CV 4/5] END .................n_estimators=1000;, score=0.800 total time=   2.0s\n",
      "[CV 5/5] END .................n_estimators=1000;, score=0.886 total time=   1.8s\n"
     ]
    },
    {
     "data": {
      "text/plain": [
       "GridSearchCV(estimator=RandomForestClassifier(random_state=101),\n",
       "             param_grid={'n_estimators': [100, 200, 300, 400, 500, 600, 700,\n",
       "                                          800, 1000]},\n",
       "             verbose=3)"
      ]
     },
     "execution_count": 23,
     "metadata": {},
     "output_type": "execute_result"
    }
   ],
   "source": [
    "#fitting our training data on weight category prediction model\n",
    "grid_cv.fit(X_train, y_train)"
   ]
  },
  {
   "cell_type": "code",
   "execution_count": 24,
   "id": "5d359da5",
   "metadata": {},
   "outputs": [
    {
     "name": "stdout",
     "output_type": "stream",
     "text": [
      "{'n_estimators': 200}\n"
     ]
    }
   ],
   "source": [
    "#let us the best paramters\n",
    "print(grid_cv.best_params_)"
   ]
  },
  {
   "cell_type": "code",
   "execution_count": 25,
   "id": "b5ae01a7",
   "metadata": {},
   "outputs": [],
   "source": [
    "#let us make weight category predictions on test data\n",
    "pred = grid_cv.predict(X_test)"
   ]
  },
  {
   "cell_type": "code",
   "execution_count": 27,
   "id": "a5e55ef3",
   "metadata": {},
   "outputs": [
    {
     "name": "stdout",
     "output_type": "stream",
     "text": [
      "Classification report -->\n",
      "\n",
      "\n",
      "                 precision    recall  f1-score   support\n",
      "\n",
      "Extremely Obese       0.91      0.97      0.94        63\n",
      " Extremely week       1.00      1.00      1.00         1\n",
      "         Normal       0.92      0.96      0.94        23\n",
      "        Obesity       0.78      0.82      0.79        38\n",
      "     Overweight       0.92      0.58      0.71        19\n",
      "           Weak       0.83      0.83      0.83         6\n",
      "\n",
      "       accuracy                           0.87       150\n",
      "      macro avg       0.89      0.86      0.87       150\n",
      "   weighted avg       0.88      0.87      0.87       150\n",
      "\n",
      "\n",
      "\n",
      "Confusion matrix -->\n",
      "\n",
      "\n",
      "[[61  0  0  2  0  0]\n",
      " [ 0  1  0  0  0  0]\n",
      " [ 0  0 22  0  0  1]\n",
      " [ 6  0  0 31  1  0]\n",
      " [ 0  0  1  7 11  0]\n",
      " [ 0  0  1  0  0  5]]\n",
      "\n",
      "\n",
      "Accuracy Score --> 87.33333333333333\n"
     ]
    }
   ],
   "source": [
    "#Let us print the classification report, confusion matrix and accuracy score on our weight category prediction model\n",
    "print(\"Classification report -->\") \n",
    "print('\\n')\n",
    "print(classification_report(y_test,pred))\n",
    "print('\\n')\n",
    "print(\"Confusion matrix -->\")\n",
    "print('\\n')\n",
    "print(confusion_matrix(y_test,pred))\n",
    "print('\\n')\n",
    "print(\"Accuracy Score -->\", accuracy_score(y_test,pred)*100)"
   ]
  },
  {
   "cell_type": "code",
   "execution_count": 63,
   "id": "76fd18f3",
   "metadata": {},
   "outputs": [],
   "source": [
    "# a function that will perform all the preprocessing for live prediction in the next step\n",
    "def lp(details):\n",
    "    gender=details[0]\n",
    "    height=details[1]\n",
    "    weight=details[2]\n",
    "    if(gender=='Male'):\n",
    "        details=np.array([[np.float(height),np.float(weight), 0.0,1.0]])\n",
    "    elif(gender=='Female'):\n",
    "        details=np.array([[np.float(height),np.float(weight), 1.0,0.0]])\n",
    "    y_pred = grid_cv.predict(s.transform(details))\n",
    "    return(y_pred[0])"
   ]
  },
  {
   "cell_type": "code",
   "execution_count": 64,
   "id": "58ac8215",
   "metadata": {},
   "outputs": [
    {
     "name": "stdout",
     "output_type": "stream",
     "text": [
      "Overweight\n"
     ]
    }
   ],
   "source": [
    "#Live Prediction\n",
    "your_details = ['Male', 175,80]\n",
    "print(lp(your_details))"
   ]
  },
  {
   "cell_type": "code",
   "execution_count": null,
   "id": "ebe92206",
   "metadata": {},
   "outputs": [],
   "source": []
  }
 ],
 "metadata": {
  "kernelspec": {
   "display_name": "Python 3 (ipykernel)",
   "language": "python",
   "name": "python3"
  },
  "language_info": {
   "codemirror_mode": {
    "name": "ipython",
    "version": 3
   },
   "file_extension": ".py",
   "mimetype": "text/x-python",
   "name": "python",
   "nbconvert_exporter": "python",
   "pygments_lexer": "ipython3",
   "version": "3.9.7"
  }
 },
 "nbformat": 4,
 "nbformat_minor": 5
}
